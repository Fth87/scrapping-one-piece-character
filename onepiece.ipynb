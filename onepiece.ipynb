{
 "cells": [
  {
   "cell_type": "code",
   "execution_count": null,
   "id": "63d93064",
   "metadata": {},
   "outputs": [],
   "source": [
    "import requests\n",
    "from bs4 import BeautifulSoup\n",
    "import time\n",
    "from collections import defaultdict\n",
    "import csv"
   ]
  },
  {
   "cell_type": "markdown",
   "id": "08c25a72",
   "metadata": {},
   "source": [
    "## Inisialisasi variabel"
   ]
  },
  {
   "cell_type": "code",
   "execution_count": null,
   "id": "33a58d79",
   "metadata": {},
   "outputs": [],
   "source": [
    "character_episodes = defaultdict(list)\n",
    "base_url = \"https://onepiece.fandom.com/wiki/Episode_\"\n",
    "max_episodes = 1141\n",
    "headers = {\n",
    "    \"User-Agent\": \"Mozilla/5.0 (Windows NT 10.0; Win64; x64) AppleWebKit/537.36 (KHTML, like Gecko) Chrome/91.0.4472.124 Safari/537.36\"\n",
    "}"
   ]
  },
  {
   "cell_type": "markdown",
   "id": "8e832fd0",
   "metadata": {},
   "source": [
    "## Fungsi untuk dapat char dari setiap episode\n"
   ]
  },
  {
   "cell_type": "code",
   "execution_count": 18,
   "id": "59cfe4ec",
   "metadata": {},
   "outputs": [],
   "source": [
    "def get_characters_from_episode(episode_number):\n",
    "    url = f\"{base_url}{episode_number}\"\n",
    "    try:\n",
    "        response = requests.get(url, headers=headers)\n",
    "        response.raise_for_status() \n",
    "        soup = BeautifulSoup(response.text, 'html.parser')\n",
    "\n",
    "        span = soup.find(\"span\", id=\"Characters_in_Order_of_Appearance\")\n",
    "        character_section = span.find_parent(\"h2\")\n",
    "        \n",
    "        if not character_section:\n",
    "            print(f\"No 'Characters in Order of Appearance' section found for Episode {episode_number}\")\n",
    "            return []\n",
    "        character_list = character_section.find_next('ul')\n",
    "        if not character_list:\n",
    "            print(f\"No character list found for Episode {episode_number}\")\n",
    "            return []\n",
    "\n",
    "        characters = []\n",
    "        for li in character_list.find_all('li'):\n",
    "            character_name = li.find('a')\n",
    "            if character_name and character_name.get('title'):\n",
    "                name = character_name.get('title')\n",
    "            else:\n",
    "                # Fallback to plain text\n",
    "                name = li.get_text(strip=True)\n",
    "            # Clean name (remove annotations like \"(flashback)\")\n",
    "            if name:\n",
    "                cleaned_name = name.split('(')[0].strip()\n",
    "                characters.append(cleaned_name)\n",
    "\n",
    "        return characters\n",
    "\n",
    "    except requests.RequestException as e:\n",
    "        print(f\"Error fetching Episode {episode_number}: {e}\")\n",
    "        return []\n",
    "    except Exception as e:\n",
    "        print(f\"Error parsing Episode {episode_number}: {e}\")\n",
    "        return []"
   ]
  },
  {
   "cell_type": "markdown",
   "id": "471620c1",
   "metadata": {},
   "source": [
    "# Scrap dari eps 1 - max "
   ]
  },
  {
   "cell_type": "code",
   "execution_count": null,
   "id": "85be5341",
   "metadata": {},
   "outputs": [
    {
     "name": "stdout",
     "output_type": "stream",
     "text": [
      "Scraping Episode 1...\n",
      "Scraping Episode 2...\n",
      "Scraping Episode 3...\n",
      "Scraping Episode 4...\n",
      "Scraping Episode 5...\n",
      "Scraping Episode 6...\n",
      "Scraping Episode 7...\n",
      "Scraping Episode 8...\n",
      "Scraping Episode 9...\n",
      "Scraping Episode 10...\n"
     ]
    }
   ],
   "source": [
    "# Sebagai contoh, kita scrap dari episode 1 sampai 10, kalo pengen maksimal tinggal hapus aja karena sudah di set di atas untuk max_episodes\n",
    "max_episodes = 10\n",
    "\n",
    "for episode in range(1, max_episodes + 1):\n",
    "    print(f\"Scraping Episode {episode}...\")\n",
    "    characters = get_characters_from_episode(episode)\n",
    "    \n",
    "    for character in characters:\n",
    "        if character:  # Skip nama yang kosong\n",
    "            character_episodes[character].append(episode)\n",
    "\n",
    "    # Delay to avoid rate-limiting\n",
    "    time.sleep(1)\n",
    "    \n"
   ]
  },
  {
   "cell_type": "markdown",
   "id": "d72f860a",
   "metadata": {},
   "source": [
    "## Urutkan episodenya"
   ]
  },
  {
   "cell_type": "code",
   "execution_count": 20,
   "id": "703cc797",
   "metadata": {},
   "outputs": [],
   "source": [
    "# Sort episodes for each character\n",
    "for character in character_episodes:\n",
    "    character_episodes[character].sort()\n"
   ]
  },
  {
   "cell_type": "markdown",
   "id": "890ab1b4",
   "metadata": {},
   "source": [
    "## Save ke CSV"
   ]
  },
  {
   "cell_type": "code",
   "execution_count": 21,
   "id": "d7802e3e",
   "metadata": {},
   "outputs": [
    {
     "name": "stdout",
     "output_type": "stream",
     "text": [
      "Data saved to onepiece_characters.csv\n"
     ]
    }
   ],
   "source": [
    "# Save to CSV\n",
    "csv_file = \"onepiece_characters.csv\"\n",
    "with open(csv_file, \"w\", encoding=\"utf-8\", newline='') as f:\n",
    "    writer = csv.writer(f)\n",
    "    # Write header\n",
    "    writer.writerow([\"Character\", \"Episodes\"])\n",
    "    # Write character data\n",
    "    for character, episodes in sorted(character_episodes.items()):\n",
    "        episode_list = ','.join(map(str, episodes))\n",
    "        writer.writerow([character, episode_list])\n",
    "\n",
    "print(f\"Data saved to {csv_file}\")"
   ]
  }
 ],
 "metadata": {
  "kernelspec": {
   "display_name": ".venv",
   "language": "python",
   "name": "python3"
  },
  "language_info": {
   "codemirror_mode": {
    "name": "ipython",
    "version": 3
   },
   "file_extension": ".py",
   "mimetype": "text/x-python",
   "name": "python",
   "nbconvert_exporter": "python",
   "pygments_lexer": "ipython3",
   "version": "3.12.3"
  }
 },
 "nbformat": 4,
 "nbformat_minor": 5
}
